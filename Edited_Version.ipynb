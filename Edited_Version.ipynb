{
  "cells": [
    {
      "cell_type": "markdown",
      "metadata": {
        "id": "view-in-github",
        "colab_type": "text"
      },
      "source": [
        "<a href=\"https://colab.research.google.com/github/swathianil/NMA_deeplearning/blob/main/Edited_Version.ipynb\" target=\"_parent\"><img src=\"https://colab.research.google.com/assets/colab-badge.svg\" alt=\"Open In Colab\"/></a>"
      ]
    },
    {
      "cell_type": "markdown",
      "metadata": {
        "execution": {},
        "id": "1LEUKclrbnv9"
      },
      "source": [
        "# Load HCP parcellated task data\n",
        "## (version with Behavioural Data)\n",
        "\n",
        "The HCP dataset comprises task-based fMRI from a large sample of human subjects. The NMA-curated dataset includes time series data that has been preprocessed and spatially-downsampled by aggregating within 360 regions of interest.\n",
        "\n",
        "In order to use this dataset, please electronically sign the HCP data use terms at [ConnectomeDB](https://db.humanconnectome.org). Instructions for this are on pp. 24-25 of the [HCP Reference Manual](https://www.humanconnectome.org/storage/app/media/documentation/s1200/HCP_S1200_Release_Reference_Manual.pdf).\n",
        "\n",
        "In this notebook, NMA provides code for downloading the data and doing some basic visualisation and processing."
      ]
    },
    {
      "cell_type": "code",
      "execution_count": 1,
      "metadata": {
        "execution": {},
        "id": "GVLUZwf-bnv-",
        "colab": {
          "base_uri": "https://localhost:8080/"
        },
        "outputId": "fcd15f05-595d-4e8c-f581-8d671e0edd44"
      },
      "outputs": [
        {
          "output_type": "stream",
          "name": "stdout",
          "text": [
            "\u001b[2K     \u001b[90m━━━━━━━━━━━━━━━━━━━━━━━━━━━━━━━━━━━━━━━━\u001b[0m \u001b[32m10.3/10.3 MB\u001b[0m \u001b[31m18.3 MB/s\u001b[0m eta \u001b[36m0:00:00\u001b[0m\n",
            "\u001b[2K     \u001b[90m━━━━━━━━━━━━━━━━━━━━━━━━━━━━━━━━━━━━━━━━\u001b[0m \u001b[32m3.3/3.3 MB\u001b[0m \u001b[31m33.0 MB/s\u001b[0m eta \u001b[36m0:00:00\u001b[0m\n",
            "\u001b[?25h"
          ]
        }
      ],
      "source": [
        "# @title Install dependencies\n",
        "!pip install nilearn --quiet"
      ]
    },
    {
      "cell_type": "code",
      "execution_count": 2,
      "metadata": {
        "execution": {},
        "id": "MDgsQGd6bnv_"
      },
      "outputs": [],
      "source": [
        "import os\n",
        "import numpy as np\n",
        "import pandas as pd\n",
        "import seaborn as sns\n",
        "import matplotlib.pyplot as plt\n",
        "from google.colab import files"
      ]
    },
    {
      "cell_type": "code",
      "source": [
        "!git clone 'https://github.com/xxlya/BrainGNN_Pytorch'"
      ],
      "metadata": {
        "colab": {
          "base_uri": "https://localhost:8080/"
        },
        "id": "S29luk9Ayd9T",
        "outputId": "30de487e-3eb8-410a-bc84-204f7933919d"
      },
      "execution_count": 3,
      "outputs": [
        {
          "output_type": "stream",
          "name": "stdout",
          "text": [
            "Cloning into 'BrainGNN_Pytorch'...\n",
            "remote: Enumerating objects: 82, done.\u001b[K\n",
            "remote: Counting objects: 100% (18/18), done.\u001b[K\n",
            "remote: Compressing objects: 100% (18/18), done.\u001b[K\n",
            "remote: Total 82 (delta 7), reused 3 (delta 0), pack-reused 64\u001b[K\n",
            "Receiving objects: 100% (82/82), 55.50 KiB | 3.70 MiB/s, done.\n",
            "Resolving deltas: 100% (24/24), done.\n"
          ]
        }
      ]
    },
    {
      "cell_type": "code",
      "execution_count": 4,
      "metadata": {
        "cellView": "form",
        "execution": {},
        "id": "FMsYNcGLbnv_"
      },
      "outputs": [],
      "source": [
        "#@title Figure settings\n",
        "%matplotlib inline\n",
        "%config InlineBackend.figure_format = 'retina'\n",
        "plt.style.use(\"https://raw.githubusercontent.com/NeuromatchAcademy/course-content/main/nma.mplstyle\")"
      ]
    },
    {
      "cell_type": "code",
      "execution_count": 5,
      "metadata": {
        "execution": {},
        "id": "ErRfWy1DlBGF"
      },
      "outputs": [],
      "source": [
        "# The data shared for NMA projects is a subset of the full HCP dataset\n",
        "N_SUBJECTS = 100\n",
        "\n",
        "# The data have already been aggregated into ROIs from the Glasser parcellation\n",
        "N_PARCELS = 360\n",
        "\n",
        "# The acquisition parameters for all tasks were identical\n",
        "TR = 0.72  # Time resolution, in seconds\n",
        "\n",
        "# The parcels are matched across hemispheres with the same order\n",
        "HEMIS = [\"Right\", \"Left\"]\n",
        "\n",
        "# Each experiment was repeated twice in each subject\n",
        "RUNS   = ['LR','RL']\n",
        "N_RUNS = 2\n",
        "\n",
        "# There are 7 tasks. Each has a number of 'conditions'\n",
        "# TIP: look inside the data folders for more fine-graned conditions\n",
        "\n",
        "EXPERIMENTS = {\n",
        "    'MOTOR'      : {'cond':['lf','rf','lh','rh','t','cue']},\n",
        "    'WM'         : {'cond':['0bk_body','0bk_faces','0bk_places','0bk_tools','2bk_body','2bk_faces','2bk_places','2bk_tools']},\n",
        "    'EMOTION'    : {'cond':['fear','neut']},\n",
        "    'GAMBLING'   : {'cond':['loss_event','win_event','neut_event']},\n",
        "    'LANGUAGE'   : {'cond':['math','story']},\n",
        "    'RELATIONAL' : {'cond':['match','relation']},\n",
        "    'SOCIAL'     : {'cond':['ment','rnd']}\n",
        "}"
      ]
    },
    {
      "cell_type": "markdown",
      "metadata": {
        "execution": {},
        "id": "FlYllkdsbnv_"
      },
      "source": [
        "> For a detailed description of the tasks have a look pages 45-54 of the [HCP reference manual](https://www.humanconnectome.org/storage/app/media/documentation/s1200/HCP_S1200_Release_Reference_Manual.pdf)."
      ]
    },
    {
      "cell_type": "markdown",
      "metadata": {
        "execution": {},
        "id": "tyMzbeqZbnv_"
      },
      "source": [
        "# Downloading data\n",
        "\n",
        "The task data are shared in different files, but they will unpack into the same directory structure.\n"
      ]
    },
    {
      "cell_type": "code",
      "execution_count": 6,
      "metadata": {
        "execution": {},
        "id": "p8Qu4f-6lBGH"
      },
      "outputs": [],
      "source": [
        "# @title Download data file\n",
        "import os, requests\n",
        "\n",
        "fname = \"hcp_task.tgz\"\n",
        "url = \"https://osf.io/2y3fw/download\"\n",
        "\n",
        "if not os.path.isfile(fname):\n",
        "  try:\n",
        "    r = requests.get(url)\n",
        "  except requests.ConnectionError:\n",
        "    print(\"!!! Failed to download data !!!\")\n",
        "  else:\n",
        "    if r.status_code != requests.codes.ok:\n",
        "      print(\"!!! Failed to download data !!!\")\n",
        "    else:\n",
        "      with open(fname, \"wb\") as fid:\n",
        "        fid.write(r.content)"
      ]
    },
    {
      "cell_type": "code",
      "execution_count": 7,
      "metadata": {
        "execution": {},
        "id": "9B7SDTgklBGI"
      },
      "outputs": [],
      "source": [
        "# The download cells will store the data in nested directories starting here:\n",
        "HCP_DIR = \"./hcp_task\"\n",
        "\n",
        "# importing the \"tarfile\" module\n",
        "import tarfile\n",
        "\n",
        "# open file\n",
        "with tarfile.open(fname) as tfile:\n",
        "  # extracting file\n",
        "  tfile.extractall('.')\n",
        "\n",
        "subjects = np.loadtxt(os.path.join(HCP_DIR, 'subjects_list.txt'), dtype='str')"
      ]
    },
    {
      "cell_type": "markdown",
      "metadata": {
        "execution": {},
        "id": "e1D4ThTVbnv_"
      },
      "source": [
        "## Understanding the folder organisation\n",
        "\n",
        "The data folder has the following organisation:\n",
        "\n",
        "- hcp\n",
        "  - regions.npy (information on the brain parcellation)\n",
        "  - subjects_list.txt (list of subject IDs)\n",
        "  - subjects (main data folder)\n",
        "    - [subjectID] (subject-specific subfolder)\n",
        "      - EXPERIMENT (one folder per experiment)\n",
        "        - RUN (one folder per run)\n",
        "          - data.npy (the parcellated time series data)\n",
        "          - EVs (EVs folder)\n",
        "            - [ev1.txt] (one file per condition)\n",
        "            - [ev2.txt]\n",
        "            - Stats.txt (behavioural data [where available] - averaged per run)\n",
        "            - Sync.txt (ignore this file)\n",
        "\n"
      ]
    },
    {
      "cell_type": "markdown",
      "metadata": {
        "execution": {},
        "id": "VaNjS-5NbnwA"
      },
      "source": [
        "## Loading region information\n",
        "\n",
        "Downloading this dataset will create the `regions.npy` file, which contains the region name and network assignment for each parcel.\n",
        "\n",
        "Detailed information about the name used for each region is provided [in the Supplement](https://static-content.springer.com/esm/art%3A10.1038%2Fnature18933/MediaObjects/41586_2016_BFnature18933_MOESM330_ESM.pdf) to [Glasser et al. 2016](https://www.nature.com/articles/nature18933).\n",
        "\n",
        "Information about the network parcellation is provided in [Ji et al, 2019](https://www.ncbi.nlm.nih.gov/pmc/articles/PMC6289683/).\n",
        "\n"
      ]
    },
    {
      "cell_type": "code",
      "execution_count": 8,
      "metadata": {
        "execution": {},
        "id": "phw1ZIQTbnwA"
      },
      "outputs": [],
      "source": [
        "regions = np.load(f\"{HCP_DIR}/regions.npy\").T\n",
        "region_info = dict(\n",
        "    name=regions[0].tolist(),\n",
        "    network=regions[1],\n",
        "    hemi=['Right']*int(N_PARCELS/2) + ['Left']*int(N_PARCELS/2),\n",
        ")"
      ]
    },
    {
      "cell_type": "markdown",
      "metadata": {
        "execution": {},
        "id": "cX5mlCFxbnwA"
      },
      "source": [
        "# Help functions\n",
        "\n",
        "We provide two helper functions: one for loading the time series from a single suject and a single run, and one for loading an EV file for each task.\n",
        "\n",
        "An EV file (EV:Explanatory Variable) describes the task experiment in terms of stimulus onset, duration, and amplitude. These can be used to model the task time series data."
      ]
    },
    {
      "cell_type": "code",
      "execution_count": 9,
      "metadata": {
        "execution": {},
        "id": "rbfpU9ZHbnwA"
      },
      "outputs": [],
      "source": [
        "def load_single_timeseries(subject, experiment, run, remove_mean=True):\n",
        "  \"\"\"Load timeseries data for a single subject and single run.\n",
        "\n",
        "  Args:\n",
        "    subject (str):      subject ID to load\n",
        "    experiment (str):   Name of experiment\n",
        "    run (int):          (0 or 1)\n",
        "    remove_mean (bool): If True, subtract the parcel-wise mean (typically the mean BOLD signal is not of interest)\n",
        "\n",
        "  Returns\n",
        "    ts (n_parcel x n_timepoint array): Array of BOLD data values\n",
        "\n",
        "  \"\"\"\n",
        "  bold_run  = RUNS[run]\n",
        "  bold_path = f\"{HCP_DIR}/subjects/{subject}/{experiment}/tfMRI_{experiment}_{bold_run}\"\n",
        "  bold_file = \"data.npy\"\n",
        "  ts = np.load(f\"{bold_path}/{bold_file}\")\n",
        "  if remove_mean:\n",
        "    ts -= ts.mean(axis=1, keepdims=True)\n",
        "  return ts\n",
        "\n",
        "\n",
        "def load_evs(subject, experiment, run):\n",
        "  \"\"\"Load EVs (explanatory variables) data for one task experiment.\n",
        "\n",
        "  Args:\n",
        "    subject (str): subject ID to load\n",
        "    experiment (str) : Name of experiment\n",
        "    run (int): 0 or 1\n",
        "\n",
        "  Returns\n",
        "    evs (list of lists): A list of frames associated with each condition\n",
        "\n",
        "  \"\"\"\n",
        "  frames_list = []\n",
        "  task_key = f'tfMRI_{experiment}_{RUNS[run]}'\n",
        "  for cond in EXPERIMENTS[experiment]['cond']:\n",
        "    ev_file  = f\"{HCP_DIR}/subjects/{subject}/{experiment}/{task_key}/EVs/{cond}.txt\"\n",
        "    ev_array = np.loadtxt(ev_file, ndmin=2, unpack=True)\n",
        "    ev       = dict(zip([\"onset\", \"duration\", \"amplitude\"], ev_array))\n",
        "    # Determine when trial starts, rounded down\n",
        "    start = np.floor(ev[\"onset\"] / TR).astype(int)\n",
        "    # Use trial duration to determine how many frames to include for trial\n",
        "    duration = np.ceil(ev[\"duration\"] / TR).astype(int)\n",
        "    # Take the range of frames that correspond to this specific trial\n",
        "    frames = [s + np.arange(0, d) for s, d in zip(start, duration)]\n",
        "    # print(len(frames))\n",
        "    # print(frames)\n",
        "    # print(\"**************\")\n",
        "    frames_list.append(frames)\n",
        "\n",
        "  return frames_list\n",
        "\n",
        "def load_evs_dir(subject, experiment, run):\n",
        "  \"\"\"Load EVs (explanatory variables) data for one task experiment.\n",
        "\n",
        "  Args:\n",
        "    subject (str): subject ID to load\n",
        "    experiment (str) : Name of experiment\n",
        "    run (int): 0 or 1\n",
        "\n",
        "  Returns\n",
        "    evs (list of lists): A list of frames associated with each condition\n",
        "\n",
        "  \"\"\"\n",
        "  task_key = f'tfMRI_{experiment}_{RUNS[run]}'\n",
        "  ev_file  = f\"{HCP_DIR}/subjects/{subject}/{experiment}/{task_key}/EVs/\"\n",
        "  stuff = os.listdir(ev_file)\n",
        "  return stuff\n",
        "\n",
        "def load_evs_beh(subject, experiment, run):\n",
        "  \"\"\"Load EVs (explanatory variables) data for one task experiment.\n",
        "\n",
        "  Args:\n",
        "    subject (str): subject ID to load\n",
        "    experiment (str) : Name of experiment\n",
        "    run (int): 0 or 1\n",
        "\n",
        "  Returns\n",
        "    evs (list of lists): A list of frames associated with each condition\n",
        "\n",
        "  \"\"\"\n",
        "  task_key = f'tfMRI_{experiment}_{RUNS[run]}'\n",
        "  ev_file  = f\"{HCP_DIR}/subjects/{subject}/{experiment}/{task_key}/EVs/neut_event.txt\"\n",
        "  return ev_file"
      ]
    },
    {
      "cell_type": "code",
      "source": [
        "evs = load_evs(subject=my_subj, experiment=my_exp, run=my_run)"
      ],
      "metadata": {
        "colab": {
          "base_uri": "https://localhost:8080/",
          "height": 169
        },
        "id": "_n76Bh-Cju-f",
        "outputId": "499a2e16-2031-49f8-c44a-37a92a1f7d0b"
      },
      "execution_count": 10,
      "outputs": [
        {
          "output_type": "error",
          "ename": "NameError",
          "evalue": "ignored",
          "traceback": [
            "\u001b[0;31m---------------------------------------------------------------------------\u001b[0m",
            "\u001b[0;31mNameError\u001b[0m                                 Traceback (most recent call last)",
            "\u001b[0;32m<ipython-input-10-dbb5a9f0617d>\u001b[0m in \u001b[0;36m<cell line: 1>\u001b[0;34m()\u001b[0m\n\u001b[0;32m----> 1\u001b[0;31m \u001b[0mevs\u001b[0m \u001b[0;34m=\u001b[0m \u001b[0mload_evs\u001b[0m\u001b[0;34m(\u001b[0m\u001b[0msubject\u001b[0m\u001b[0;34m=\u001b[0m\u001b[0mmy_subj\u001b[0m\u001b[0;34m,\u001b[0m \u001b[0mexperiment\u001b[0m\u001b[0;34m=\u001b[0m\u001b[0mmy_exp\u001b[0m\u001b[0;34m,\u001b[0m \u001b[0mrun\u001b[0m\u001b[0;34m=\u001b[0m\u001b[0mmy_run\u001b[0m\u001b[0;34m)\u001b[0m\u001b[0;34m\u001b[0m\u001b[0;34m\u001b[0m\u001b[0m\n\u001b[0m",
            "\u001b[0;31mNameError\u001b[0m: name 'my_subj' is not defined"
          ]
        }
      ]
    },
    {
      "cell_type": "code",
      "source": [
        "def load_timeserise(task, subjectID, run, remove_mean):\n",
        "    right_Hemi_idx=np.arange(0,int(N_PARCELS/2),1)\n",
        "    left_Hemi_idx=np.arange(int(N_PARCELS/2),N_PARCELS,1)\n",
        "    data = load_single_timeseries(subject=subjectID, experiment=task, run=run, remove_mean=remove_mean)\n",
        "    evs = load_evs(subject=subjectID, experiment=task, run=run)\n",
        "\n",
        "    ## separating retions within left and right hemisphere\n",
        "    timeserise_right=data[right_Hemi_idx,:]\n",
        "    timeserise_left=data[left_Hemi_idx,:]\n",
        "    regionNum=len(right_Hemi_idx)\n",
        "    Total_Timeseries_Left=[]\n",
        "    Total_Timeseries_Right=[]\n",
        "    Cond_Label=[]\n",
        "\n",
        "    for cond in range(len(EXPERIMENTS[task]['cond'])):\n",
        "      trialIndex=evs[cond]\n",
        "      trlLen=len(trialIndex)\n",
        "      sampleNo=np.shape(trialIndex[0])[0]\n",
        "      timeserise_right_trials=np.zeros((regionNum, trlLen, sampleNo))\n",
        "      timeserise_left_trials=np.zeros((regionNum, trlLen, sampleNo))\n",
        "\n",
        "      for t in range(trlLen):\n",
        "        point_index=trialIndex[t]\n",
        "        timeserise_right_trials[:,t,:]=timeserise_right[:,point_index]\n",
        "        timeserise_left_trials[:,t,:]=timeserise_left[:,point_index]\n",
        "        Cond_Label.append(EXPERIMENTS[task]['cond'][cond])\n",
        "\n",
        "      if(cond==0):\n",
        "        Total_Timeseries_Left=timeserise_left_trials\n",
        "        Total_Timeseries_Right=timeserise_right_trials\n",
        "      else:\n",
        "        Total_Timeseries_Left=np.hstack((Total_Timeseries_Left, timeserise_left_trials))\n",
        "        Total_Timeseries_Right=np.hstack((Total_Timeseries_Right, timeserise_right_trials))\n",
        "\n",
        "    return Total_Timeseries_Left, Total_Timeseries_Right, Cond_Label"
      ],
      "metadata": {
        "id": "i2TTs9mXlRBV"
      },
      "execution_count": null,
      "outputs": []
    },
    {
      "cell_type": "code",
      "source": [
        "Total_Timeseries_Left, Total_Timeseries_Right, Cond_Label=load_timeserise(task='GAMBLING', subjectID=subjects[0] ,run=0, remove_mean=True)\n",
        "\n",
        "print(np.shape(Total_Timeseries_Left))\n",
        "print(np.shape(Total_Timeseries_Right))\n",
        "print(len(Cond_Label))\n",
        "print(Cond_Label)"
      ],
      "metadata": {
        "id": "bZoApNOmmOvc"
      },
      "execution_count": null,
      "outputs": []
    },
    {
      "cell_type": "markdown",
      "metadata": {
        "execution": {},
        "id": "3mwDLXctbnwA"
      },
      "source": [
        "# Example run\n",
        "\n",
        "Let's load the timeseries data for the MOTOR experiment from a single subject and a single run"
      ]
    },
    {
      "cell_type": "code",
      "execution_count": null,
      "metadata": {
        "execution": {},
        "id": "uv163-pObnwA"
      },
      "outputs": [],
      "source": [
        "my_exp = 'GAMBLING'\n",
        "my_subj = subjects[5]\n",
        "my_run = 1\n",
        "\n",
        "data = load_single_timeseries(subject=my_subj,\n",
        "                              experiment=my_exp,\n",
        "                              run=my_run,\n",
        "                              remove_mean=True)\n",
        "print(data.shape)"
      ]
    },
    {
      "cell_type": "markdown",
      "source": [],
      "metadata": {
        "id": "p86H9s3d6JII"
      }
    },
    {
      "cell_type": "markdown",
      "metadata": {
        "execution": {},
        "id": "fBO1nt-hbnwB"
      },
      "source": [
        "As you can see the time series data contains 284 time points in 360 regions of interest (ROIs).\n",
        "\n"
      ]
    },
    {
      "cell_type": "markdown",
      "metadata": {
        "execution": {},
        "id": "kiWPN3xEbnwB"
      },
      "source": [
        "Now in order to understand how to model these data, we need to relate the time series to the experimental manipulation. This is described by the EV files. Let us load the EVs for this experiment."
      ]
    },
    {
      "cell_type": "code",
      "execution_count": null,
      "metadata": {
        "execution": {},
        "id": "544ntZXnbnwB"
      },
      "outputs": [],
      "source": [
        "evs = load_evs(subject=my_subj, experiment=my_exp, run=my_run)\n",
        "# see whats in the envs for an experiment\n",
        "options = load_evs_dir(subject=my_subj, experiment=my_exp, run=my_run)\n",
        "print(options)"
      ]
    },
    {
      "cell_type": "code",
      "source": [
        "# download a txt file if you want\n",
        "beh = load_evs_beh(subject=my_subj, experiment=my_exp, run=my_run)\n",
        "files.download(beh)"
      ],
      "metadata": {
        "id": "kZQM53oZPq-S"
      },
      "execution_count": null,
      "outputs": []
    },
    {
      "cell_type": "code",
      "source": [
        "print(beh)"
      ],
      "metadata": {
        "id": "L1QihC7SjlPz"
      },
      "execution_count": null,
      "outputs": []
    },
    {
      "cell_type": "markdown",
      "source": [
        "Mean RT: 500.625\n",
        "Percent NLR: 0.0\n",
        "NLR as ACC: 1.0"
      ],
      "metadata": {
        "id": "BWztl85Jtg1w"
      }
    },
    {
      "cell_type": "markdown",
      "metadata": {
        "execution": {},
        "id": "Jrk4ny-GbnwB"
      },
      "source": [
        "For the motor task, this evs variable contains a list of 5 arrays corresponding to the 5 conditions.\n",
        "\n",
        "Now let's use these evs to compare the average activity during the left foot ('lf') and right foot ('rf') conditions:"
      ]
    },
    {
      "cell_type": "code",
      "execution_count": null,
      "metadata": {
        "execution": {},
        "id": "l1mZlg_qbnwB"
      },
      "outputs": [],
      "source": [
        "# we need a little function that averages all frames from any given condition\n",
        "def average_frames(data, evs, experiment, cond):\n",
        "  idx = EXPERIMENTS[experiment]['cond'].index(cond)\n",
        "  return np.mean(np.concatenate([np.mean(data[:, evs[idx][i]+2], axis=1, keepdims=True) for i in range(len(evs[idx]))], axis=-1), axis=1)\n",
        "\n",
        "def idx_check(data, evs, experiment, cond):\n",
        "  idx = EXPERIMENTS[experiment]['cond'].index(cond)\n",
        "  return idx\n",
        "\n",
        "test = idx_check(data, evs, my_exp, 'loss')\n",
        "loss = average_frames(data, evs, my_exp, 'loss')\n",
        "win = average_frames(data, evs, my_exp, 'win')\n",
        "loss_event = average_frames(data, evs, my_exp, 'loss_event')\n",
        "win_event = average_frames(data, evs, my_exp, 'win_event')\n",
        "\n",
        "contrast = win_event - loss_event  # difference between win/loss condition"
      ]
    },
    {
      "cell_type": "code",
      "execution_count": null,
      "metadata": {
        "execution": {},
        "id": "JzmvZ_i5bnwB"
      },
      "outputs": [],
      "source": [
        "# Plot activity level in each ROI for both conditions\n",
        "#plt.plot(loss,label='loss')\n",
        "#plt.plot(win,label='win')\n",
        "plt.plot(loss_event,label='loss_event')\n",
        "plt.plot(win_event,label='win_event')\n",
        "plt.xlabel('ROI')\n",
        "plt.ylabel('activity')\n",
        "plt.legend()\n",
        "plt.show()"
      ]
    },
    {
      "cell_type": "markdown",
      "metadata": {
        "execution": {},
        "id": "MC7q83YCbnwB"
      },
      "source": [
        "Now let's plot these activity vectors. We will also make use of the ROI names to find out which brain areas show highest activity in these conditions. But since there are so many areas, we will group them by network.\n",
        "\n",
        "A powerful tool for organising and plotting this data is the combination of pandas and seaborn. Below is an example where we use pandas to create a table for the activity data and we use seaborn oto visualise it.\n",
        "\n",
        "\n",
        "\n"
      ]
    },
    {
      "cell_type": "code",
      "execution_count": null,
      "metadata": {
        "execution": {},
        "id": "qPRFm9WsbnwB"
      },
      "outputs": [],
      "source": [
        "df = pd.DataFrame({'loss_event' : loss_event,\n",
        "                   'win_event' : win_event,\n",
        "                   'network' : region_info['network'],\n",
        "                   'hemi' : region_info['hemi']})\n",
        "\n",
        "fig, (ax1, ax2) = plt.subplots(1, 2)\n",
        "sns.barplot(y='network', x='loss_event', data=df, hue='hemi',ax=ax1)\n",
        "sns.barplot(y='network', x='win_event', data=df, hue='hemi',ax=ax2)\n",
        "plt.show()"
      ]
    },
    {
      "cell_type": "code",
      "source": [
        "df = pd.DataFrame({'win_event' : win_event,\n",
        "                   'loss_event' : loss_event,\n",
        "                   'network' : region_info['network']})\n",
        "\n",
        "fig, (ax1, ax2) = plt.subplots(1, 2)\n",
        "sns.barplot(y='network', x='loss_event', data=df,ax=ax1)\n",
        "sns.barplot(y='network', x='win_event', data=df,ax=ax2)\n",
        "plt.show()"
      ],
      "metadata": {
        "id": "H8zYk94ypj8k"
      },
      "execution_count": null,
      "outputs": []
    },
    {
      "cell_type": "markdown",
      "metadata": {
        "execution": {},
        "id": "79aCASVHbnwB"
      },
      "source": [
        "You should be able to notice that for the somatosensory network, brain activity in the right hemi is higher for the left foot movement and vice versa for the left hemi and right foot. But this may be subtle at the single subject/session level (these are quick 3-4min scans).\n",
        "\n",
        "\n",
        "Let us boost thee stats by averaging across all subjects and runs."
      ]
    },
    {
      "cell_type": "code",
      "execution_count": null,
      "metadata": {
        "execution": {},
        "id": "QWLFCy9sbnwB"
      },
      "outputs": [],
      "source": [
        "group_contrast = 0\n",
        "for s in subjects:\n",
        "  for r in [0, 1]:\n",
        "    data = load_single_timeseries(subject=s, experiment=my_exp,\n",
        "                                  run=r, remove_mean=True)\n",
        "    evs = load_evs(subject=s, experiment=my_exp,run=r)\n",
        "\n",
        "    win_event_act = average_frames(data, evs, my_exp, 'win_event')\n",
        "    loss_event_act = average_frames(data, evs, my_exp, 'loss_event')\n",
        "\n",
        "    contrast = win_event_act - loss_event_act\n",
        "    group_contrast += contrast\n",
        "\n",
        "group_contrast /= (len(subjects)*2)  # remember: 2 sessions per subject"
      ]
    },
    {
      "cell_type": "code",
      "execution_count": null,
      "metadata": {
        "execution": {},
        "id": "GSmSvaRQbnwB"
      },
      "outputs": [],
      "source": [
        "df = pd.DataFrame({'contrast' : group_contrast,\n",
        "                   'network' : region_info['network'],\n",
        "                   'hemi' : region_info['hemi']\n",
        "                   })\n",
        "# we will plot the left foot minus right foot contrast so we only need one plot\n",
        "plt.figure()\n",
        "sns.barplot(y='network', x='contrast', data=df, hue='hemi')\n",
        "plt.show()"
      ]
    },
    {
      "cell_type": "code",
      "source": [
        "df = pd.DataFrame({'contrast' : group_contrast,\n",
        "                   'network' : region_info['network']})\n",
        "# we will plot the left foot minus right foot contrast so we only need one plot\n",
        "plt.figure()\n",
        "sns.barplot(y='network', x='contrast', data=df)\n",
        "plt.show()"
      ],
      "metadata": {
        "id": "L2HQci8Xpt98"
      },
      "execution_count": null,
      "outputs": []
    },
    {
      "cell_type": "markdown",
      "metadata": {
        "execution": {},
        "id": "f6i-lZwobnwB"
      },
      "source": [
        "# Visualising the results on a brain\n",
        "\n",
        "Finally, we will visualise these resuts on the cortical surface of an average brain."
      ]
    },
    {
      "cell_type": "code",
      "execution_count": null,
      "metadata": {
        "execution": {},
        "id": "sWIj21u4bnwB"
      },
      "outputs": [],
      "source": [
        "# @title NMA provides an atlas. Run this cell to download it\n",
        "import os, requests\n",
        "\n",
        "# NMA provides an atlas\n",
        "fname = f\"{HCP_DIR}/atlas.npz\"\n",
        "url = \"https://osf.io/j5kuc/download\"\n",
        "\n",
        "if not os.path.isfile(fname):\n",
        "  try:\n",
        "    r = requests.get(url)\n",
        "  except requests.ConnectionError:\n",
        "    print(\"!!! Failed to download data !!!\")\n",
        "  else:\n",
        "    if r.status_code != requests.codes.ok:\n",
        "      print(\"!!! Failed to download data !!!\")\n",
        "    else:\n",
        "      with open(fname, \"wb\") as fid:\n",
        "        fid.write(r.content)\n",
        "\n",
        "with np.load(fname) as dobj:\n",
        "  atlas = dict(**dobj)"
      ]
    },
    {
      "cell_type": "code",
      "source": [
        "print(atlas)"
      ],
      "metadata": {
        "id": "Wr6Ef1lIcr0S"
      },
      "execution_count": null,
      "outputs": []
    },
    {
      "cell_type": "code",
      "execution_count": null,
      "metadata": {
        "execution": {},
        "id": "SXF408XubnwB"
      },
      "outputs": [],
      "source": [
        "# This uses the nilearn package\n",
        "from nilearn import plotting, datasets\n",
        "\n",
        "# Try both hemispheres (L->R and left->right)\n",
        "fsaverage = datasets.fetch_surf_fsaverage()\n",
        "surf_contrast = group_contrast[atlas[\"labels_L\"]]\n",
        "plotting.view_surf(fsaverage['infl_left'],\n",
        "                   surf_contrast,\n",
        "                   vmax=20)"
      ]
    },
    {
      "cell_type": "code",
      "source": [
        "from scipy import stats\n",
        "def normalize (subjects, experiment, run):\n",
        "\n",
        "    dataMat = []\n",
        "    for i in range (len(subjects)):\n",
        "        ds = load_single_timeseries(subjects[i], experiment, run, remove_mean=True)\n",
        "        dataMat.append (ds)\n",
        "    dataMat = np.array(dataMat)\n",
        "    # print (dataMat.shape)\n",
        "    zscore = stats.zscore(dataMat, axis=1)\n",
        "    # print (zscore.shape)\n",
        "\n",
        "    return zscore\n"
      ],
      "metadata": {
        "id": "9VzLjdw1DgSk"
      },
      "execution_count": null,
      "outputs": []
    }
  ],
  "metadata": {
    "colab": {
      "provenance": [],
      "include_colab_link": true
    },
    "kernel": {
      "display_name": "Python 3",
      "language": "python",
      "name": "python3"
    },
    "kernelspec": {
      "display_name": "Python 3",
      "name": "python3"
    },
    "language_info": {
      "name": "python"
    }
  },
  "nbformat": 4,
  "nbformat_minor": 0
}